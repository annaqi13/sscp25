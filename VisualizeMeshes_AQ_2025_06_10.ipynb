{
 "cells": [
  {
   "cell_type": "markdown",
   "id": "7c53c191",
   "metadata": {
    "id": "7c53c191"
   },
   "source": [
    "# Generate Virtual Cohort\n",
    "\n",
    "Written by: Anna Qi\n",
    "\n",
    "Example code to visualize some meshes regenerated from shape mode scores."
   ]
  },
  {
   "cell_type": "code",
   "execution_count": null,
   "id": "1be2d43b",
   "metadata": {
    "executionInfo": {
     "elapsed": 2202,
     "status": "ok",
     "timestamp": 1750049852993,
     "user": {
      "displayName": "Anna Qi",
      "userId": "13290207409121553209"
     },
     "user_tz": 420
    },
    "id": "1be2d43b"
   },
   "outputs": [],
   "source": [
    "# imports (use pip install in your terminal to install these packages)\n",
    "import pandas as pd\n",
    "import pyvista as pv\n",
    "import scipy.io\n",
    "import numpy as np"
   ]
  },
  {
   "cell_type": "code",
   "execution_count": 19,
   "id": "725cbfaa",
   "metadata": {
    "executionInfo": {
     "elapsed": 1599,
     "status": "ok",
     "timestamp": 1750049854599,
     "user": {
      "displayName": "Anna Qi",
      "userId": "13290207409121553209"
     },
     "user_tz": 420
    },
    "id": "725cbfaa"
   },
   "outputs": [],
   "source": [
    "import scipy.io\n",
    "\n",
    "# Load UKB EDES atlas from .mat file\n",
    "mat_data = scipy.io.loadmat(\"Data/BioBank_EDES_200.mat\") #Replace with the actual path to your library folder\n",
    "pca = mat_data['pca200'][0, 0]\n",
    "\n",
    "# functions to reconstruct shape given PC scores\n",
    "def reconstruct_shape(score, atlas, num_scores = 25):\n",
    "    d = score * np.sqrt(atlas[\"LATENT\"][0:num_scores]).T\n",
    "    shape = atlas[\"MU\"] + np.matmul(d, atlas[\"COEFF\"][:, :num_scores].T)\n",
    "    return shape.T\n",
    "\n",
    "# Extract ED phase as (N, 3) mesh\n",
    "def get_ED_mesh_from_shape(shape):\n",
    "    N = len(shape)\n",
    "    return shape[:N // 2].reshape(-1, 3)\n",
    "\n",
    "def get_ES_mesh_from_shape(shape):\n",
    "    N = len(shape)\n",
    "    return shape[N // 2:].reshape(-1, 3)"
   ]
  },
  {
   "cell_type": "code",
   "execution_count": 20,
   "id": "F9TMbL46ERL3",
   "metadata": {
    "executionInfo": {
     "elapsed": 2223,
     "status": "ok",
     "timestamp": 1750049856833,
     "user": {
      "displayName": "Anna Qi",
      "userId": "13290207409121553209"
     },
     "user_tz": 420
    },
    "id": "F9TMbL46ERL3"
   },
   "outputs": [],
   "source": [
    "# import necessary ET Indices File\n",
    "et_indices = np.loadtxt(\"biv-me-main/src/model/ETIndicesSorted.txt\").astype(int) - 1 #matlab indexing to python\n",
    "\n",
    "# Import virtual cohort sheet\n",
    "virtual_cohort = pd.read_excel(\"Data/virtual_cohort_data.xlsx\")\n",
    "pc_columns = [col for col in virtual_cohort.columns if col.startswith('PC')]\n",
    "pc_scores = virtual_cohort[pc_columns]"
   ]
  },
  {
   "cell_type": "markdown",
   "id": "7e383fab",
   "metadata": {
    "id": "7e383fab"
   },
   "source": [
    "### Visualize some individual data"
   ]
  },
  {
   "cell_type": "code",
   "execution_count": 15,
   "id": "d0833455",
   "metadata": {
    "executionInfo": {
     "elapsed": 46,
     "status": "ok",
     "timestamp": 1750050199384,
     "user": {
      "displayName": "Anna Qi",
      "userId": "13290207409121553209"
     },
     "user_tz": 420
    },
    "id": "d0833455"
   },
   "outputs": [],
   "source": [
    "# visualize shape from the z-scores\n",
    "pv.set_jupyter_backend('trame')\n",
    "\n",
    "# Surface region index ranges\n",
    "SurfaceStartEnd = [\n",
    "    (0, 3072),     # LV\n",
    "    (3072, 4480),  # RVS\n",
    "    (4480, 6752),  # RVFW\n",
    "    (6752, 11616), # Epi\n",
    "    (11616, 11664),# Mitral\n",
    "    (11664, 11688),# Aortic\n",
    "    (11688, 11728),# Tricuspid\n",
    "    (11728, 11760) # Pulmonary\n",
    "]\n",
    "\n",
    "# define functions to visualize a mesh using pyvista\n",
    "def build_pv_mesh(vertices, faces):\n",
    "    # Convert to pyvista face format: [3, i0, i1, i2] per triangle\n",
    "    n_faces = faces.shape[0]\n",
    "    face_data = np.hstack([np.full((n_faces, 1), 3), faces]).astype(np.int32)\n",
    "    return pv.PolyData(vertices, face_data)\n",
    "\n",
    "def plot_ed_shape_pyvista(vertices, et_indices, show_valves=True):\n",
    "    # Segment faces\n",
    "    LV_faces = et_indices[SurfaceStartEnd[0][0]:SurfaceStartEnd[0][1]]\n",
    "    RV_faces = et_indices[SurfaceStartEnd[1][0]:SurfaceStartEnd[2][1]]\n",
    "    EPI_faces = et_indices[SurfaceStartEnd[3][0]:SurfaceStartEnd[3][1]]\n",
    "\n",
    "    LV_mesh = build_pv_mesh(vertices, LV_faces)\n",
    "    RV_mesh = build_pv_mesh(vertices, RV_faces)\n",
    "    EPI_mesh = build_pv_mesh(vertices, EPI_faces)\n",
    "\n",
    "    plotter = pv.Plotter(notebook=True)\n",
    "    plotter.set_background(\"white\")\n",
    "\n",
    "    # Add surfaces\n",
    "    plotter.add_mesh(LV_mesh, color=(0, 0.5, 0), show_edges=False, smooth_shading=True, opacity=1.0, name=\"LV\")\n",
    "    plotter.add_mesh(RV_mesh, color=(0, 0, 0.8), show_edges=False, smooth_shading=True, opacity=1.0, name=\"RV\")\n",
    "    plotter.add_mesh(EPI_mesh, color=(0.5, 0, 0), show_edges=False, smooth_shading=True, opacity=0.5, name=\"Epi\")\n",
    "\n",
    "    if show_valves:\n",
    "        _add_valves_to_plotter(plotter, vertices, et_indices)\n",
    "\n",
    "    plotter.view_vector((1, 1, 0.5), viewup=(0, 0, 1))\n",
    "    return plotter.show()\n",
    "\n",
    "# add valves to the plot\n",
    "def _add_valves_to_plotter(plotter, vertices, et_indices):\n",
    "    def valve_lines(start, end, color):\n",
    "        faces = et_indices[start:end]\n",
    "        for i in range(0, len(faces), 2):\n",
    "            try:\n",
    "                v1 = vertices[faces[i, [0, 2]]]\n",
    "                v2 = vertices[faces[i + 1, [0, 1]]]\n",
    "                points = np.vstack([v1, v2])\n",
    "                line = pv.lines_from_points(points)\n",
    "                plotter.add_mesh(line, color=color, line_width=2)\n",
    "            except IndexError:\n",
    "                continue\n",
    "\n",
    "    valve_lines(*SurfaceStartEnd[4], 'cyan')     # Mitral\n",
    "    valve_lines(*SurfaceStartEnd[5], 'yellow')   # Aortic\n",
    "    valve_lines(*SurfaceStartEnd[6], 'magenta')  # Tricuspid\n",
    "    valve_lines(*SurfaceStartEnd[7], 'green')    # Pulmonary"
   ]
  },
  {
   "cell_type": "code",
   "execution_count": 16,
   "id": "931448d9",
   "metadata": {
    "id": "931448d9"
   },
   "outputs": [
    {
     "data": {
      "application/vnd.jupyter.widget-view+json": {
       "model_id": "1aef7b1223ca47b8ade256085845a7d7",
       "version_major": 2,
       "version_minor": 0
      },
      "text/plain": [
       "Widget(value='<iframe src=\"http://localhost:51177/index.html?ui=P_0x13614d550_2&reconnect=auto\" class=\"pyvista…"
      ]
     },
     "metadata": {},
     "output_type": "display_data"
    }
   ],
   "source": [
    "patient1 = pc_scores.loc[0].to_numpy()\n",
    "patient1_shape = reconstruct_shape(patient1, pca)\n",
    "patient1_ed = get_ED_mesh_from_shape(patient1_shape)\n",
    "\n",
    "plot_ed_shape_pyvista(patient1_ed, et_indices)"
   ]
  },
  {
   "cell_type": "code",
   "execution_count": 17,
   "id": "4a64d471",
   "metadata": {
    "colab": {
     "referenced_widgets": [
      "460a5c8955d749109183777c99314341"
     ]
    },
    "id": "4a64d471",
    "outputId": "5cdf606f-199d-4b22-c0e9-1051b60084f7"
   },
   "outputs": [
    {
     "name": "stdout",
     "output_type": "stream",
     "text": [
      "Displaying two models. Rotate one and the other will follow.\n"
     ]
    },
    {
     "data": {
      "application/vnd.jupyter.widget-view+json": {
       "model_id": "9449b9e1fb664371a5e4611054a2265e",
       "version_major": 2,
       "version_minor": 0
      },
      "text/plain": [
       "Widget(value='<iframe src=\"http://localhost:51177/index.html?ui=P_0x135890ce0_3&reconnect=auto\" class=\"pyvista…"
      ]
     },
     "metadata": {},
     "output_type": "display_data"
    }
   ],
   "source": [
    "# modified plotting function to fit in a subplot\n",
    "def _add_model_to_subplot(plotter, vertices, et_indices):\n",
    "    LV_faces = et_indices[SurfaceStartEnd[0][0]:SurfaceStartEnd[0][1]]\n",
    "    RV_faces = et_indices[SurfaceStartEnd[1][0]:SurfaceStartEnd[2][1]]\n",
    "    EPI_faces = et_indices[SurfaceStartEnd[3][0]:SurfaceStartEnd[3][1]]\n",
    "\n",
    "    LV_mesh = build_pv_mesh(vertices, LV_faces)\n",
    "    RV_mesh = build_pv_mesh(vertices, RV_faces)\n",
    "    EPI_mesh = build_pv_mesh(vertices, EPI_faces)\n",
    "\n",
    "    plotter.add_mesh(LV_mesh, color=(0, 0.5, 0), show_edges=False, smooth_shading=True, name=\"LV\")\n",
    "    plotter.add_mesh(RV_mesh, color=(0, 0, 0.8), show_edges=False, smooth_shading=True, name=\"RV\")\n",
    "    plotter.add_mesh(EPI_mesh, color=(0.5, 0, 0), show_edges=False, smooth_shading=True, opacity=0.5, name=\"Epi\")\n",
    "\n",
    "# function plot two models side-by-side with linked cameras\n",
    "def plot_comparison(vertices1, label1, vertices2, label2, et_indices):\n",
    "    # create a plotter with 1 row and 2 columns\n",
    "    plotter = pv.Plotter(shape=(1, 2), notebook=True, window_size=[1800, 700])\n",
    "    plotter.set_background(\"white\")\n",
    "\n",
    "    # add first model on the left\n",
    "    plotter.subplot(0, 0)\n",
    "    plotter.add_text(label1, font_size=24, color='black')\n",
    "    _add_model_to_subplot(plotter, vertices1, et_indices)\n",
    "    plotter.view_vector((1, 1, 0.5), viewup=(0, 0, 1))\n",
    "\n",
    "    # add the second model on the right\n",
    "    plotter.subplot(0, 1)\n",
    "    plotter.add_text(label2, font_size=24, color='black')\n",
    "    _add_model_to_subplot(plotter, vertices2, et_indices)\n",
    "    plotter.view_vector((1, 1, 0.5), viewup=(0, 0, 1))\n",
    "\n",
    "    # link the cameras\n",
    "    plotter.link_views()\n",
    "    print(\"Displaying two models. Rotate one and the other will follow.\")\n",
    "    plotter.show()\n",
    "\n",
    "et_indices = np.loadtxt(\"biv-me-main/src/model/ETIndicesSorted.txt\").astype(int) - 1\n",
    "\n",
    "patient1 = pc_scores.loc[0].to_numpy()\n",
    "patient1_shape = reconstruct_shape(patient1, pca)\n",
    "patient1_ed = get_ED_mesh_from_shape(patient1_shape)\n",
    "\n",
    "patient2 = pc_scores.loc[1].to_numpy()\n",
    "patient2_shape = reconstruct_shape(patient2, pca)\n",
    "patient2_ed = get_ED_mesh_from_shape(patient2_shape)\n",
    "\n",
    "# Call the plotting function\n",
    "plot_comparison(\n",
    "    vertices1=patient1_ed, label1=\"Patient 1\",\n",
    "    vertices2=patient2_ed, label2=\"Patient 2\",\n",
    "    et_indices=et_indices\n",
    ")"
   ]
  }
 ],
 "metadata": {
  "colab": {
   "provenance": []
  },
  "kernelspec": {
   "display_name": "venv",
   "language": "python",
   "name": "python3"
  },
  "language_info": {
   "codemirror_mode": {
    "name": "ipython",
    "version": 3
   },
   "file_extension": ".py",
   "mimetype": "text/x-python",
   "name": "python",
   "nbconvert_exporter": "python",
   "pygments_lexer": "ipython3",
   "version": "3.12.9"
  }
 },
 "nbformat": 4,
 "nbformat_minor": 5
}
